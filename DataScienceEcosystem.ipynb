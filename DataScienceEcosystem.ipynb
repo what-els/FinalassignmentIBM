{
 "cells": [
  {
   "cell_type": "markdown",
   "id": "0645c6ea-ed51-4bc9-a38b-077e9975813e",
   "metadata": {},
   "source": [
    "# Data Science Tools and Ecosystems"
   ]
  },
  {
   "cell_type": "markdown",
   "id": "7977b6c5-1425-4e4d-8e44-895472aebbd3",
   "metadata": {},
   "source": [
    "In this notebook, Data Science Tools and Ecosystems are summarized."
   ]
  },
  {
   "cell_type": "markdown",
   "id": "61bfab91-a361-49d9-92e7-13808da56fd3",
   "metadata": {},
   "source": [
    "__Objectives__\n",
    "\n",
    "- List programming languages used by data scientists\n",
    "- List popular libraries used by data scientists\n",
    "- get familiar with data science tools\n",
    "- express simple arithmetic expressions using python\n"
   ]
  },
  {
   "cell_type": "markdown",
   "id": "48cc476b-26e7-45db-a7c2-4dbd8a18c71d",
   "metadata": {},
   "source": [
    "Some of the languages Data Scientists use are:\n",
    "\n",
    "1. Python\n",
    "2. R\n",
    "3. C++\n",
    "4. C\n",
    "5. Scala"
   ]
  },
  {
   "cell_type": "markdown",
   "id": "c1558701-f6bb-4afc-aef0-89233e813975",
   "metadata": {},
   "source": [
    "Some of the most common libraries used by data scientists include:\n",
    " \n",
    " 1. pandas\n",
    " 2. numpy\n",
    " 3. matplotlib\n",
    " 4. pytorch\n"
   ]
  },
  {
   "cell_type": "markdown",
   "id": "6a0abf5e-fa6c-4cea-abf8-b1d29f2cefc6",
   "metadata": {
    "tags": []
   },
   "source": [
    "| __Data Science Tools__|\n",
    "|-----|\n",
    "| MySQL |\n",
    "| Hadoop |\n",
    "| Predictionio |"
   ]
  },
  {
   "cell_type": "markdown",
   "id": "cadcfc79-d563-4cfa-abe0-78f85f6b378b",
   "metadata": {},
   "source": [
    "### Below are a few examples of evaluating arithmetic expressions in Python"
   ]
  },
  {
   "cell_type": "code",
   "execution_count": 2,
   "id": "d4d4c8a7-1f1a-4f81-9527-b71712b7663c",
   "metadata": {
    "tags": []
   },
   "outputs": [
    {
     "data": {
      "text/plain": [
       "17"
      ]
     },
     "execution_count": 2,
     "metadata": {},
     "output_type": "execute_result"
    }
   ],
   "source": [
    "(3*4)+5\n",
    "# This is a simple arithmetic expression to multiply then add intergers"
   ]
  },
  {
   "cell_type": "code",
   "execution_count": 3,
   "id": "6dc41b89-0803-4395-b863-f814b49676db",
   "metadata": {
    "tags": []
   },
   "outputs": [
    {
     "name": "stdout",
     "output_type": "stream",
     "text": [
      "3.3333333333333335\n"
     ]
    }
   ],
   "source": [
    "x= 200\n",
    "y= 60\n",
    "z = x/y\n",
    "print(z)\n",
    "\n",
    "# This will convert 200 minutes to hours by diving by 60"
   ]
  },
  {
   "cell_type": "markdown",
   "id": "26bfab18-1b72-4976-b35e-1152ac144d6f",
   "metadata": {},
   "source": [
    "## Author: \n",
    "Endre Sziraki"
   ]
  },
  {
   "cell_type": "code",
   "execution_count": null,
   "id": "7c8bc7f9-8380-428c-9663-34db93695753",
   "metadata": {},
   "outputs": [],
   "source": []
  }
 ],
 "metadata": {
  "kernelspec": {
   "display_name": "Python",
   "language": "python",
   "name": "conda-env-python-py"
  },
  "language_info": {
   "codemirror_mode": {
    "name": "ipython",
    "version": 3
   },
   "file_extension": ".py",
   "mimetype": "text/x-python",
   "name": "python",
   "nbconvert_exporter": "python",
   "pygments_lexer": "ipython3",
   "version": "3.7.12"
  }
 },
 "nbformat": 4,
 "nbformat_minor": 5
}
